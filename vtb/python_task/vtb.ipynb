{
 "cells": [
  {
   "cell_type": "markdown",
   "metadata": {},
   "source": [
    "# Задание 1."
   ]
  },
  {
   "cell_type": "markdown",
   "metadata": {},
   "source": [
    "Имеется файл (ссылка на гугл диск: https://drive.google.com/file/d/1bDynbu7oHkL3HQ5ql0e9nHZP_Dg_3xVY/view?usp=sharing) с временной статистикой работы асессоров (асессор – человек, выполняющий оценочную работу «оценщик») над однотипным заданием.\n",
    "\n",
    "Формат файла: login tid Microtasks assigned_ts tclosed_ts.\n",
    "\n",
    "Пояснение к формату: login — логин асессора; tid — id оцениваемого задания (task id); Microtasks – количество микрозаданий в одном задании; assigned_ts — время резервирования системой задания для асессора; closed_ts — точное время завершения работы над заданием; разделитель — табуляция \\t.\n",
    "\n",
    "Задание может состоять из одного или несколько микрозаданий. Время резервирования задания (assigned_ts) указывает на тот момент, когда система назначила определенного асессора исполнителем этого задания. Этот момент может совпадать с временем начала работы асессора над заданием, а может и не совпадать (асессор может отойти выпить чаю, а потом приступить к заданию, асессор может выполнять предыдущее задание, в то время как за ним зарезервированы новые).\n",
    "\n",
    "Предположим, что асессор за 30 секунд своего рабочего времени получает N рублей.\n",
    "\n",
    "Какую оплату вы считаете справедливой для выполнения асессором одного микрозадания из этого файла? \n",
    "\n",
    "Опишите подробно все этапы вашего решения.\n"
   ]
  },
  {
   "cell_type": "markdown",
   "metadata": {},
   "source": [
    "## Подключаем необходимые библиотеки"
   ]
  },
  {
   "cell_type": "code",
   "execution_count": 1,
   "metadata": {},
   "outputs": [],
   "source": [
    "import pandas as pd\n",
    "import numpy as numpy\n",
    "import seaborn as sns\n",
    "import matplotlib.pyplot as plt\n",
    "from sklearn.metrics import f1_score, accuracy_score, confusion_matrix\n",
    "\n",
    "\n",
    "plt.rcParams['figure.figsize'] = (18,8)"
   ]
  },
  {
   "cell_type": "code",
   "execution_count": 2,
   "metadata": {},
   "outputs": [],
   "source": [
    "PATH = 'C:\\\\Users\\\\Илья\\\\Downloads\\\\'"
   ]
  },
  {
   "cell_type": "markdown",
   "metadata": {},
   "source": [
    "## 1.1  Загружаем данные"
   ]
  },
  {
   "cell_type": "code",
   "execution_count": 3,
   "metadata": {},
   "outputs": [],
   "source": [
    "data = pd.read_csv(PATH + 'data_task4_old.txt', \n",
    "                   sep='\\t', \n",
    "                   parse_dates=['assigned_ts', 'closed_ts'])"
   ]
  },
  {
   "cell_type": "code",
   "execution_count": 4,
   "metadata": {},
   "outputs": [
    {
     "data": {
      "text/html": [
       "<div>\n",
       "<style scoped>\n",
       "    .dataframe tbody tr th:only-of-type {\n",
       "        vertical-align: middle;\n",
       "    }\n",
       "\n",
       "    .dataframe tbody tr th {\n",
       "        vertical-align: top;\n",
       "    }\n",
       "\n",
       "    .dataframe thead th {\n",
       "        text-align: right;\n",
       "    }\n",
       "</style>\n",
       "<table border=\"1\" class=\"dataframe\">\n",
       "  <thead>\n",
       "    <tr style=\"text-align: right;\">\n",
       "      <th></th>\n",
       "      <th>login</th>\n",
       "      <th>tid</th>\n",
       "      <th>Microtasks</th>\n",
       "      <th>assigned_ts</th>\n",
       "      <th>closed_ts</th>\n",
       "    </tr>\n",
       "  </thead>\n",
       "  <tbody>\n",
       "    <tr>\n",
       "      <th>0</th>\n",
       "      <td>login0</td>\n",
       "      <td>190563850.0</td>\n",
       "      <td>4.0</td>\n",
       "      <td>2017-04-20 12:09:39</td>\n",
       "      <td>2017-04-20 13:13:01</td>\n",
       "    </tr>\n",
       "    <tr>\n",
       "      <th>1</th>\n",
       "      <td>login0</td>\n",
       "      <td>190561754.0</td>\n",
       "      <td>1.0</td>\n",
       "      <td>2017-04-20 12:10:30</td>\n",
       "      <td>2017-04-20 12:28:29</td>\n",
       "    </tr>\n",
       "    <tr>\n",
       "      <th>2</th>\n",
       "      <td>login0</td>\n",
       "      <td>190565906.0</td>\n",
       "      <td>4.0</td>\n",
       "      <td>2017-04-20 12:21:31</td>\n",
       "      <td>2017-04-20 13:30:10</td>\n",
       "    </tr>\n",
       "    <tr>\n",
       "      <th>3</th>\n",
       "      <td>login0</td>\n",
       "      <td>190560246.0</td>\n",
       "      <td>1.0</td>\n",
       "      <td>2017-04-20 12:28:30</td>\n",
       "      <td>2017-04-20 13:13:56</td>\n",
       "    </tr>\n",
       "    <tr>\n",
       "      <th>4</th>\n",
       "      <td>login0</td>\n",
       "      <td>190562168.0</td>\n",
       "      <td>2.0</td>\n",
       "      <td>2017-04-20 12:28:42</td>\n",
       "      <td>2017-04-20 13:14:50</td>\n",
       "    </tr>\n",
       "  </tbody>\n",
       "</table>\n",
       "</div>"
      ],
      "text/plain": [
       "    login          tid  Microtasks         assigned_ts           closed_ts\n",
       "0  login0  190563850.0         4.0 2017-04-20 12:09:39 2017-04-20 13:13:01\n",
       "1  login0  190561754.0         1.0 2017-04-20 12:10:30 2017-04-20 12:28:29\n",
       "2  login0  190565906.0         4.0 2017-04-20 12:21:31 2017-04-20 13:30:10\n",
       "3  login0  190560246.0         1.0 2017-04-20 12:28:30 2017-04-20 13:13:56\n",
       "4  login0  190562168.0         2.0 2017-04-20 12:28:42 2017-04-20 13:14:50"
      ]
     },
     "execution_count": 4,
     "metadata": {},
     "output_type": "execute_result"
    }
   ],
   "source": [
    "data.head()"
   ]
  },
  {
   "cell_type": "code",
   "execution_count": 5,
   "metadata": {},
   "outputs": [
    {
     "name": "stdout",
     "output_type": "stream",
     "text": [
      "<class 'pandas.core.frame.DataFrame'>\n",
      "RangeIndex: 701827 entries, 0 to 701826\n",
      "Data columns (total 5 columns):\n",
      " #   Column       Non-Null Count   Dtype         \n",
      "---  ------       --------------   -----         \n",
      " 0   login        701827 non-null  object        \n",
      " 1   tid          701827 non-null  float64       \n",
      " 2   Microtasks   701827 non-null  float64       \n",
      " 3   assigned_ts  701827 non-null  datetime64[ns]\n",
      " 4   closed_ts    701827 non-null  datetime64[ns]\n",
      "dtypes: datetime64[ns](2), float64(2), object(1)\n",
      "memory usage: 26.8+ MB\n"
     ]
    }
   ],
   "source": [
    "data.info()"
   ]
  },
  {
   "cell_type": "code",
   "execution_count": 6,
   "metadata": {},
   "outputs": [],
   "source": [
    "data['tid'] = data['tid'].astype('int32')\n",
    "data['Microtasks'] = data['Microtasks'].astype('int32')"
   ]
  },
  {
   "cell_type": "code",
   "execution_count": 7,
   "metadata": {},
   "outputs": [
    {
     "data": {
      "text/plain": [
       "login          0\n",
       "tid            0\n",
       "Microtasks     0\n",
       "assigned_ts    0\n",
       "closed_ts      0\n",
       "dtype: int64"
      ]
     },
     "execution_count": 7,
     "metadata": {},
     "output_type": "execute_result"
    }
   ],
   "source": [
    "data.isnull().sum()"
   ]
  },
  {
   "cell_type": "code",
   "execution_count": 8,
   "metadata": {},
   "outputs": [
    {
     "data": {
      "text/html": [
       "<div>\n",
       "<style scoped>\n",
       "    .dataframe tbody tr th:only-of-type {\n",
       "        vertical-align: middle;\n",
       "    }\n",
       "\n",
       "    .dataframe tbody tr th {\n",
       "        vertical-align: top;\n",
       "    }\n",
       "\n",
       "    .dataframe thead th {\n",
       "        text-align: right;\n",
       "    }\n",
       "</style>\n",
       "<table border=\"1\" class=\"dataframe\">\n",
       "  <thead>\n",
       "    <tr style=\"text-align: right;\">\n",
       "      <th></th>\n",
       "      <th>tid</th>\n",
       "      <th>Microtasks</th>\n",
       "    </tr>\n",
       "  </thead>\n",
       "  <tbody>\n",
       "    <tr>\n",
       "      <th>count</th>\n",
       "      <td>7.018270e+05</td>\n",
       "      <td>701827.00000</td>\n",
       "    </tr>\n",
       "    <tr>\n",
       "      <th>mean</th>\n",
       "      <td>1.884911e+08</td>\n",
       "      <td>3.25439</td>\n",
       "    </tr>\n",
       "    <tr>\n",
       "      <th>std</th>\n",
       "      <td>1.391113e+07</td>\n",
       "      <td>3.65397</td>\n",
       "    </tr>\n",
       "    <tr>\n",
       "      <th>min</th>\n",
       "      <td>1.139586e+08</td>\n",
       "      <td>1.00000</td>\n",
       "    </tr>\n",
       "    <tr>\n",
       "      <th>25%</th>\n",
       "      <td>1.906846e+08</td>\n",
       "      <td>1.00000</td>\n",
       "    </tr>\n",
       "    <tr>\n",
       "      <th>50%</th>\n",
       "      <td>1.935373e+08</td>\n",
       "      <td>2.00000</td>\n",
       "    </tr>\n",
       "    <tr>\n",
       "      <th>75%</th>\n",
       "      <td>1.963667e+08</td>\n",
       "      <td>4.00000</td>\n",
       "    </tr>\n",
       "    <tr>\n",
       "      <th>max</th>\n",
       "      <td>1.985758e+08</td>\n",
       "      <td>50.00000</td>\n",
       "    </tr>\n",
       "  </tbody>\n",
       "</table>\n",
       "</div>"
      ],
      "text/plain": [
       "                tid    Microtasks\n",
       "count  7.018270e+05  701827.00000\n",
       "mean   1.884911e+08       3.25439\n",
       "std    1.391113e+07       3.65397\n",
       "min    1.139586e+08       1.00000\n",
       "25%    1.906846e+08       1.00000\n",
       "50%    1.935373e+08       2.00000\n",
       "75%    1.963667e+08       4.00000\n",
       "max    1.985758e+08      50.00000"
      ]
     },
     "execution_count": 8,
     "metadata": {},
     "output_type": "execute_result"
    }
   ],
   "source": [
    "data.describe()"
   ]
  },
  {
   "cell_type": "code",
   "execution_count": null,
   "metadata": {},
   "outputs": [],
   "source": [
    "# Микрозадачи варьируются от 1 до 50. В половине всех задач по 2 микрозадачи."
   ]
  },
  {
   "cell_type": "code",
   "execution_count": 153,
   "metadata": {},
   "outputs": [],
   "source": [
    "# # Посмотрим уникальные логины\n",
    "# data.groupby('login')['tid'].nunique().sort_values(ascending=False)"
   ]
  },
  {
   "cell_type": "markdown",
   "metadata": {},
   "source": [
    "## Анализируем данные"
   ]
  },
  {
   "cell_type": "code",
   "execution_count": 9,
   "metadata": {},
   "outputs": [],
   "source": [
    "payment_period = 30"
   ]
  },
  {
   "cell_type": "markdown",
   "metadata": {},
   "source": [
    "### Рассчитываем разницу между временем выдачи и завершения задания в сек"
   ]
  },
  {
   "cell_type": "code",
   "execution_count": 10,
   "metadata": {},
   "outputs": [],
   "source": [
    "data['timedelta_sec'] = (data['closed_ts'] - data['assigned_ts']).dt.total_seconds()"
   ]
  },
  {
   "cell_type": "markdown",
   "metadata": {},
   "source": [
    "###  Рассчитываем время на выполнение 1 минизадачи"
   ]
  },
  {
   "cell_type": "code",
   "execution_count": 11,
   "metadata": {},
   "outputs": [],
   "source": [
    "data['timedelta_on_one_microtask'] = data['timedelta_sec'] / data['Microtasks']"
   ]
  },
  {
   "cell_type": "markdown",
   "metadata": {},
   "source": [
    "### Рассчитываем сколько в среднем пользователь тратит на выполнение 1 минизадачи"
   ]
  },
  {
   "cell_type": "code",
   "execution_count": 12,
   "metadata": {},
   "outputs": [
    {
     "data": {
      "text/html": [
       "<div>\n",
       "<style scoped>\n",
       "    .dataframe tbody tr th:only-of-type {\n",
       "        vertical-align: middle;\n",
       "    }\n",
       "\n",
       "    .dataframe tbody tr th {\n",
       "        vertical-align: top;\n",
       "    }\n",
       "\n",
       "    .dataframe thead th {\n",
       "        text-align: right;\n",
       "    }\n",
       "</style>\n",
       "<table border=\"1\" class=\"dataframe\">\n",
       "  <thead>\n",
       "    <tr style=\"text-align: right;\">\n",
       "      <th></th>\n",
       "      <th>login</th>\n",
       "      <th>mean_sec_on_task</th>\n",
       "    </tr>\n",
       "  </thead>\n",
       "  <tbody>\n",
       "    <tr>\n",
       "      <th>0</th>\n",
       "      <td>login0</td>\n",
       "      <td>881.508394</td>\n",
       "    </tr>\n",
       "    <tr>\n",
       "      <th>1</th>\n",
       "      <td>login1</td>\n",
       "      <td>142.951907</td>\n",
       "    </tr>\n",
       "    <tr>\n",
       "      <th>2</th>\n",
       "      <td>login10</td>\n",
       "      <td>1256.049121</td>\n",
       "    </tr>\n",
       "    <tr>\n",
       "      <th>3</th>\n",
       "      <td>login100</td>\n",
       "      <td>150.688690</td>\n",
       "    </tr>\n",
       "    <tr>\n",
       "      <th>4</th>\n",
       "      <td>login101</td>\n",
       "      <td>197.868935</td>\n",
       "    </tr>\n",
       "    <tr>\n",
       "      <th>...</th>\n",
       "      <td>...</td>\n",
       "      <td>...</td>\n",
       "    </tr>\n",
       "    <tr>\n",
       "      <th>762</th>\n",
       "      <td>login95</td>\n",
       "      <td>115.208974</td>\n",
       "    </tr>\n",
       "    <tr>\n",
       "      <th>763</th>\n",
       "      <td>login96</td>\n",
       "      <td>51.017959</td>\n",
       "    </tr>\n",
       "    <tr>\n",
       "      <th>764</th>\n",
       "      <td>login97</td>\n",
       "      <td>2442.516316</td>\n",
       "    </tr>\n",
       "    <tr>\n",
       "      <th>765</th>\n",
       "      <td>login98</td>\n",
       "      <td>2459.748568</td>\n",
       "    </tr>\n",
       "    <tr>\n",
       "      <th>766</th>\n",
       "      <td>login99</td>\n",
       "      <td>453.278452</td>\n",
       "    </tr>\n",
       "  </tbody>\n",
       "</table>\n",
       "<p>767 rows × 2 columns</p>\n",
       "</div>"
      ],
      "text/plain": [
       "        login  mean_sec_on_task\n",
       "0      login0        881.508394\n",
       "1      login1        142.951907\n",
       "2     login10       1256.049121\n",
       "3    login100        150.688690\n",
       "4    login101        197.868935\n",
       "..        ...               ...\n",
       "762   login95        115.208974\n",
       "763   login96         51.017959\n",
       "764   login97       2442.516316\n",
       "765   login98       2459.748568\n",
       "766   login99        453.278452\n",
       "\n",
       "[767 rows x 2 columns]"
      ]
     },
     "execution_count": 12,
     "metadata": {},
     "output_type": "execute_result"
    }
   ],
   "source": [
    "avg_sec_on_task = (\n",
    "    data.groupby(['login'], as_index=False)\n",
    "    .agg({'timedelta_on_one_microtask': (lambda x: x.mean())})\n",
    "    .rename(columns={'timedelta_on_one_microtask': 'mean_sec_on_task'})\n",
    ")\n",
    "avg_sec_on_task"
   ]
  },
  {
   "cell_type": "markdown",
   "metadata": {},
   "source": [
    "### Отсeчем выбросы по квантилям "
   ]
  },
  {
   "cell_type": "code",
   "execution_count": 13,
   "metadata": {},
   "outputs": [],
   "source": [
    "quantile_025  = avg_sec_on_task.mean_sec_on_task.quantile(0.025)\n",
    "quantile_0975 = avg_sec_on_task.mean_sec_on_task.quantile(0.975)"
   ]
  },
  {
   "cell_type": "markdown",
   "metadata": {},
   "source": [
    "### Оставим данные без выбросов"
   ]
  },
  {
   "cell_type": "code",
   "execution_count": 17,
   "metadata": {},
   "outputs": [],
   "source": [
    "salary_assessors = (\n",
    "    avg_sec_on_task[avg_sec_on_task['mean_sec_on_task']\n",
    "                    .between(quantile_025, \n",
    "                             quantile_0975, \n",
    "                             inclusive='neither')])"
   ]
  },
  {
   "cell_type": "markdown",
   "metadata": {},
   "source": [
    "### Рассчитываем возможную стоимость оплаты 1 микрозадачи"
   ]
  },
  {
   "cell_type": "code",
   "execution_count": 18,
   "metadata": {},
   "outputs": [],
   "source": [
    "salary_assessors = salary_assessors['mean_sec_on_task'].mean() / payment_period"
   ]
  },
  {
   "cell_type": "code",
   "execution_count": 19,
   "metadata": {},
   "outputs": [
    {
     "name": "stdout",
     "output_type": "stream",
     "text": [
      "Возможная стоимость оплаты 1 микрозадачи = 29.760781277419742*N\n"
     ]
    }
   ],
   "source": [
    "print(f'Возможная стоимость оплаты 1 микрозадачи = {salary_assessors}*N')"
   ]
  },
  {
   "cell_type": "code",
   "execution_count": null,
   "metadata": {},
   "outputs": [],
   "source": []
  },
  {
   "cell_type": "code",
   "execution_count": 111,
   "metadata": {},
   "outputs": [],
   "source": [
    "# Посмотрим сколько в среденем выполняется одна микрозадача"
   ]
  },
  {
   "cell_type": "code",
   "execution_count": 145,
   "metadata": {},
   "outputs": [],
   "source": [
    "mean_time_on_task = (\n",
    "    data\n",
    "    .groupby(['tid'], as_index=False)\n",
    "    .agg({'timedelta_on_one_microtask': 'mean'})\n",
    "    .rename(columns={'timedelta_on_one_microtask':'mean_sec_on_task'})\n",
    ")"
   ]
  },
  {
   "cell_type": "code",
   "execution_count": 146,
   "metadata": {},
   "outputs": [],
   "source": [
    "# Добавим средние значения в основной датасет\n",
    "data = pd.merge(data, mean_time_on_task, how='left', on='tid')"
   ]
  },
  {
   "cell_type": "code",
   "execution_count": 147,
   "metadata": {},
   "outputs": [
    {
     "data": {
      "text/html": [
       "<div>\n",
       "<style scoped>\n",
       "    .dataframe tbody tr th:only-of-type {\n",
       "        vertical-align: middle;\n",
       "    }\n",
       "\n",
       "    .dataframe tbody tr th {\n",
       "        vertical-align: top;\n",
       "    }\n",
       "\n",
       "    .dataframe thead th {\n",
       "        text-align: right;\n",
       "    }\n",
       "</style>\n",
       "<table border=\"1\" class=\"dataframe\">\n",
       "  <thead>\n",
       "    <tr style=\"text-align: right;\">\n",
       "      <th></th>\n",
       "      <th>login</th>\n",
       "      <th>tid</th>\n",
       "      <th>Microtasks</th>\n",
       "      <th>assigned_ts</th>\n",
       "      <th>closed_ts</th>\n",
       "      <th>timedelta_sec</th>\n",
       "      <th>timedelta_on_one_microtask</th>\n",
       "      <th>mean_sec_on_task</th>\n",
       "    </tr>\n",
       "  </thead>\n",
       "  <tbody>\n",
       "    <tr>\n",
       "      <th>0</th>\n",
       "      <td>login0</td>\n",
       "      <td>190563850</td>\n",
       "      <td>4</td>\n",
       "      <td>2017-04-20 12:09:39</td>\n",
       "      <td>2017-04-20 13:13:01</td>\n",
       "      <td>3802.0</td>\n",
       "      <td>950.500000</td>\n",
       "      <td>950.500000</td>\n",
       "    </tr>\n",
       "    <tr>\n",
       "      <th>1</th>\n",
       "      <td>login0</td>\n",
       "      <td>190561754</td>\n",
       "      <td>1</td>\n",
       "      <td>2017-04-20 12:10:30</td>\n",
       "      <td>2017-04-20 12:28:29</td>\n",
       "      <td>1079.0</td>\n",
       "      <td>1079.000000</td>\n",
       "      <td>1079.000000</td>\n",
       "    </tr>\n",
       "    <tr>\n",
       "      <th>2</th>\n",
       "      <td>login0</td>\n",
       "      <td>190565906</td>\n",
       "      <td>4</td>\n",
       "      <td>2017-04-20 12:21:31</td>\n",
       "      <td>2017-04-20 13:30:10</td>\n",
       "      <td>4119.0</td>\n",
       "      <td>1029.750000</td>\n",
       "      <td>1029.750000</td>\n",
       "    </tr>\n",
       "    <tr>\n",
       "      <th>3</th>\n",
       "      <td>login0</td>\n",
       "      <td>190560246</td>\n",
       "      <td>1</td>\n",
       "      <td>2017-04-20 12:28:30</td>\n",
       "      <td>2017-04-20 13:13:56</td>\n",
       "      <td>2726.0</td>\n",
       "      <td>2726.000000</td>\n",
       "      <td>2726.000000</td>\n",
       "    </tr>\n",
       "    <tr>\n",
       "      <th>4</th>\n",
       "      <td>login0</td>\n",
       "      <td>190562168</td>\n",
       "      <td>2</td>\n",
       "      <td>2017-04-20 12:28:42</td>\n",
       "      <td>2017-04-20 13:14:50</td>\n",
       "      <td>2768.0</td>\n",
       "      <td>1384.000000</td>\n",
       "      <td>1384.000000</td>\n",
       "    </tr>\n",
       "    <tr>\n",
       "      <th>...</th>\n",
       "      <td>...</td>\n",
       "      <td>...</td>\n",
       "      <td>...</td>\n",
       "      <td>...</td>\n",
       "      <td>...</td>\n",
       "      <td>...</td>\n",
       "      <td>...</td>\n",
       "      <td>...</td>\n",
       "    </tr>\n",
       "    <tr>\n",
       "      <th>701822</th>\n",
       "      <td>login766</td>\n",
       "      <td>195656026</td>\n",
       "      <td>1</td>\n",
       "      <td>2017-05-15 15:53:27</td>\n",
       "      <td>2017-05-15 16:16:56</td>\n",
       "      <td>1409.0</td>\n",
       "      <td>1409.000000</td>\n",
       "      <td>986.750000</td>\n",
       "    </tr>\n",
       "    <tr>\n",
       "      <th>701823</th>\n",
       "      <td>login766</td>\n",
       "      <td>195656174</td>\n",
       "      <td>1</td>\n",
       "      <td>2017-05-15 15:53:33</td>\n",
       "      <td>2017-05-15 16:21:53</td>\n",
       "      <td>1700.0</td>\n",
       "      <td>1700.000000</td>\n",
       "      <td>918.250000</td>\n",
       "    </tr>\n",
       "    <tr>\n",
       "      <th>701824</th>\n",
       "      <td>login766</td>\n",
       "      <td>195656466</td>\n",
       "      <td>1</td>\n",
       "      <td>2017-05-15 15:53:38</td>\n",
       "      <td>2017-05-15 16:23:41</td>\n",
       "      <td>1803.0</td>\n",
       "      <td>1803.000000</td>\n",
       "      <td>2371.400000</td>\n",
       "    </tr>\n",
       "    <tr>\n",
       "      <th>701825</th>\n",
       "      <td>login766</td>\n",
       "      <td>195656336</td>\n",
       "      <td>3</td>\n",
       "      <td>2017-05-15 15:54:18</td>\n",
       "      <td>2017-05-15 16:32:11</td>\n",
       "      <td>2273.0</td>\n",
       "      <td>757.666667</td>\n",
       "      <td>757.666667</td>\n",
       "    </tr>\n",
       "    <tr>\n",
       "      <th>701826</th>\n",
       "      <td>login766</td>\n",
       "      <td>195656078</td>\n",
       "      <td>2</td>\n",
       "      <td>2017-05-15 15:54:59</td>\n",
       "      <td>2017-05-15 16:17:32</td>\n",
       "      <td>1353.0</td>\n",
       "      <td>676.500000</td>\n",
       "      <td>676.500000</td>\n",
       "    </tr>\n",
       "  </tbody>\n",
       "</table>\n",
       "<p>701827 rows × 8 columns</p>\n",
       "</div>"
      ],
      "text/plain": [
       "           login        tid  Microtasks         assigned_ts  \\\n",
       "0         login0  190563850           4 2017-04-20 12:09:39   \n",
       "1         login0  190561754           1 2017-04-20 12:10:30   \n",
       "2         login0  190565906           4 2017-04-20 12:21:31   \n",
       "3         login0  190560246           1 2017-04-20 12:28:30   \n",
       "4         login0  190562168           2 2017-04-20 12:28:42   \n",
       "...          ...        ...         ...                 ...   \n",
       "701822  login766  195656026           1 2017-05-15 15:53:27   \n",
       "701823  login766  195656174           1 2017-05-15 15:53:33   \n",
       "701824  login766  195656466           1 2017-05-15 15:53:38   \n",
       "701825  login766  195656336           3 2017-05-15 15:54:18   \n",
       "701826  login766  195656078           2 2017-05-15 15:54:59   \n",
       "\n",
       "                 closed_ts  timedelta_sec  timedelta_on_one_microtask  \\\n",
       "0      2017-04-20 13:13:01         3802.0                  950.500000   \n",
       "1      2017-04-20 12:28:29         1079.0                 1079.000000   \n",
       "2      2017-04-20 13:30:10         4119.0                 1029.750000   \n",
       "3      2017-04-20 13:13:56         2726.0                 2726.000000   \n",
       "4      2017-04-20 13:14:50         2768.0                 1384.000000   \n",
       "...                    ...            ...                         ...   \n",
       "701822 2017-05-15 16:16:56         1409.0                 1409.000000   \n",
       "701823 2017-05-15 16:21:53         1700.0                 1700.000000   \n",
       "701824 2017-05-15 16:23:41         1803.0                 1803.000000   \n",
       "701825 2017-05-15 16:32:11         2273.0                  757.666667   \n",
       "701826 2017-05-15 16:17:32         1353.0                  676.500000   \n",
       "\n",
       "        mean_sec_on_task  \n",
       "0             950.500000  \n",
       "1            1079.000000  \n",
       "2            1029.750000  \n",
       "3            2726.000000  \n",
       "4            1384.000000  \n",
       "...                  ...  \n",
       "701822        986.750000  \n",
       "701823        918.250000  \n",
       "701824       2371.400000  \n",
       "701825        757.666667  \n",
       "701826        676.500000  \n",
       "\n",
       "[701827 rows x 8 columns]"
      ]
     },
     "execution_count": 147,
     "metadata": {},
     "output_type": "execute_result"
    }
   ],
   "source": [
    "data"
   ]
  },
  {
   "cell_type": "code",
   "execution_count": null,
   "metadata": {},
   "outputs": [],
   "source": [
    "# "
   ]
  },
  {
   "cell_type": "code",
   "execution_count": 148,
   "metadata": {},
   "outputs": [
    {
     "data": {
      "text/html": [
       "<div>\n",
       "<style scoped>\n",
       "    .dataframe tbody tr th:only-of-type {\n",
       "        vertical-align: middle;\n",
       "    }\n",
       "\n",
       "    .dataframe tbody tr th {\n",
       "        vertical-align: top;\n",
       "    }\n",
       "\n",
       "    .dataframe thead th {\n",
       "        text-align: right;\n",
       "    }\n",
       "</style>\n",
       "<table border=\"1\" class=\"dataframe\">\n",
       "  <thead>\n",
       "    <tr style=\"text-align: right;\">\n",
       "      <th></th>\n",
       "      <th>login</th>\n",
       "      <th>tid</th>\n",
       "      <th>Microtasks</th>\n",
       "      <th>assigned_ts</th>\n",
       "      <th>closed_ts</th>\n",
       "      <th>timedelta_sec</th>\n",
       "      <th>timedelta_on_one_microtask</th>\n",
       "      <th>mean_sec_on_task</th>\n",
       "    </tr>\n",
       "  </thead>\n",
       "  <tbody>\n",
       "    <tr>\n",
       "      <th>701724</th>\n",
       "      <td>login766</td>\n",
       "      <td>190477854</td>\n",
       "      <td>3</td>\n",
       "      <td>2017-04-20 12:03:44</td>\n",
       "      <td>2017-04-20 13:09:20</td>\n",
       "      <td>3936.0</td>\n",
       "      <td>1312.000000</td>\n",
       "      <td>452.333333</td>\n",
       "    </tr>\n",
       "    <tr>\n",
       "      <th>701725</th>\n",
       "      <td>login766</td>\n",
       "      <td>189961804</td>\n",
       "      <td>1</td>\n",
       "      <td>2017-04-21 04:20:49</td>\n",
       "      <td>2017-04-21 04:30:32</td>\n",
       "      <td>583.0</td>\n",
       "      <td>583.000000</td>\n",
       "      <td>353.400000</td>\n",
       "    </tr>\n",
       "    <tr>\n",
       "      <th>701726</th>\n",
       "      <td>login766</td>\n",
       "      <td>190745968</td>\n",
       "      <td>1</td>\n",
       "      <td>2017-04-21 04:30:18</td>\n",
       "      <td>2017-04-21 04:36:41</td>\n",
       "      <td>383.0</td>\n",
       "      <td>383.000000</td>\n",
       "      <td>172.800000</td>\n",
       "    </tr>\n",
       "    <tr>\n",
       "      <th>701727</th>\n",
       "      <td>login766</td>\n",
       "      <td>190745910</td>\n",
       "      <td>1</td>\n",
       "      <td>2017-04-21 04:30:33</td>\n",
       "      <td>2017-04-21 04:37:22</td>\n",
       "      <td>409.0</td>\n",
       "      <td>409.000000</td>\n",
       "      <td>195.000000</td>\n",
       "    </tr>\n",
       "    <tr>\n",
       "      <th>701728</th>\n",
       "      <td>login766</td>\n",
       "      <td>190553444</td>\n",
       "      <td>1</td>\n",
       "      <td>2017-04-21 04:36:43</td>\n",
       "      <td>2017-04-21 04:40:04</td>\n",
       "      <td>201.0</td>\n",
       "      <td>201.000000</td>\n",
       "      <td>201.000000</td>\n",
       "    </tr>\n",
       "    <tr>\n",
       "      <th>...</th>\n",
       "      <td>...</td>\n",
       "      <td>...</td>\n",
       "      <td>...</td>\n",
       "      <td>...</td>\n",
       "      <td>...</td>\n",
       "      <td>...</td>\n",
       "      <td>...</td>\n",
       "      <td>...</td>\n",
       "    </tr>\n",
       "    <tr>\n",
       "      <th>701822</th>\n",
       "      <td>login766</td>\n",
       "      <td>195656026</td>\n",
       "      <td>1</td>\n",
       "      <td>2017-05-15 15:53:27</td>\n",
       "      <td>2017-05-15 16:16:56</td>\n",
       "      <td>1409.0</td>\n",
       "      <td>1409.000000</td>\n",
       "      <td>986.750000</td>\n",
       "    </tr>\n",
       "    <tr>\n",
       "      <th>701823</th>\n",
       "      <td>login766</td>\n",
       "      <td>195656174</td>\n",
       "      <td>1</td>\n",
       "      <td>2017-05-15 15:53:33</td>\n",
       "      <td>2017-05-15 16:21:53</td>\n",
       "      <td>1700.0</td>\n",
       "      <td>1700.000000</td>\n",
       "      <td>918.250000</td>\n",
       "    </tr>\n",
       "    <tr>\n",
       "      <th>701824</th>\n",
       "      <td>login766</td>\n",
       "      <td>195656466</td>\n",
       "      <td>1</td>\n",
       "      <td>2017-05-15 15:53:38</td>\n",
       "      <td>2017-05-15 16:23:41</td>\n",
       "      <td>1803.0</td>\n",
       "      <td>1803.000000</td>\n",
       "      <td>2371.400000</td>\n",
       "    </tr>\n",
       "    <tr>\n",
       "      <th>701825</th>\n",
       "      <td>login766</td>\n",
       "      <td>195656336</td>\n",
       "      <td>3</td>\n",
       "      <td>2017-05-15 15:54:18</td>\n",
       "      <td>2017-05-15 16:32:11</td>\n",
       "      <td>2273.0</td>\n",
       "      <td>757.666667</td>\n",
       "      <td>757.666667</td>\n",
       "    </tr>\n",
       "    <tr>\n",
       "      <th>701826</th>\n",
       "      <td>login766</td>\n",
       "      <td>195656078</td>\n",
       "      <td>2</td>\n",
       "      <td>2017-05-15 15:54:59</td>\n",
       "      <td>2017-05-15 16:17:32</td>\n",
       "      <td>1353.0</td>\n",
       "      <td>676.500000</td>\n",
       "      <td>676.500000</td>\n",
       "    </tr>\n",
       "  </tbody>\n",
       "</table>\n",
       "<p>103 rows × 8 columns</p>\n",
       "</div>"
      ],
      "text/plain": [
       "           login        tid  Microtasks         assigned_ts  \\\n",
       "701724  login766  190477854           3 2017-04-20 12:03:44   \n",
       "701725  login766  189961804           1 2017-04-21 04:20:49   \n",
       "701726  login766  190745968           1 2017-04-21 04:30:18   \n",
       "701727  login766  190745910           1 2017-04-21 04:30:33   \n",
       "701728  login766  190553444           1 2017-04-21 04:36:43   \n",
       "...          ...        ...         ...                 ...   \n",
       "701822  login766  195656026           1 2017-05-15 15:53:27   \n",
       "701823  login766  195656174           1 2017-05-15 15:53:33   \n",
       "701824  login766  195656466           1 2017-05-15 15:53:38   \n",
       "701825  login766  195656336           3 2017-05-15 15:54:18   \n",
       "701826  login766  195656078           2 2017-05-15 15:54:59   \n",
       "\n",
       "                 closed_ts  timedelta_sec  timedelta_on_one_microtask  \\\n",
       "701724 2017-04-20 13:09:20         3936.0                 1312.000000   \n",
       "701725 2017-04-21 04:30:32          583.0                  583.000000   \n",
       "701726 2017-04-21 04:36:41          383.0                  383.000000   \n",
       "701727 2017-04-21 04:37:22          409.0                  409.000000   \n",
       "701728 2017-04-21 04:40:04          201.0                  201.000000   \n",
       "...                    ...            ...                         ...   \n",
       "701822 2017-05-15 16:16:56         1409.0                 1409.000000   \n",
       "701823 2017-05-15 16:21:53         1700.0                 1700.000000   \n",
       "701824 2017-05-15 16:23:41         1803.0                 1803.000000   \n",
       "701825 2017-05-15 16:32:11         2273.0                  757.666667   \n",
       "701826 2017-05-15 16:17:32         1353.0                  676.500000   \n",
       "\n",
       "        mean_sec_on_task  \n",
       "701724        452.333333  \n",
       "701725        353.400000  \n",
       "701726        172.800000  \n",
       "701727        195.000000  \n",
       "701728        201.000000  \n",
       "...                  ...  \n",
       "701822        986.750000  \n",
       "701823        918.250000  \n",
       "701824       2371.400000  \n",
       "701825        757.666667  \n",
       "701826        676.500000  \n",
       "\n",
       "[103 rows x 8 columns]"
      ]
     },
     "execution_count": 148,
     "metadata": {},
     "output_type": "execute_result"
    }
   ],
   "source": [
    "data.query('login == \"login766\"')\n",
    "# Видно, что у пользователя есть расхождения между временем, которое затратил пользователь и среднем временем на выполнение этого задания.\n",
    "# Если бы мы отсчитывали точное время начала выполнения работы, то с помощью среднего на выполнения задания мы могли бы устанавливать диффернциальную оплату по ассессорам"
   ]
  },
  {
   "cell_type": "markdown",
   "metadata": {},
   "source": [
    "# Задание 2."
   ]
  },
  {
   "cell_type": "markdown",
   "metadata": {},
   "source": [
    "Имеется файл (ссылка на гугл диск: https://drive.google.com/file/d/1d3TA49Mh7hL-VSWAvT74AGSpAmTfGyK6/view?usp=sharing) с различными оценками асессоров  (асессор – человек, выполняющий оценочную работу «оценщик»).\n",
    "\n",
    "Формат файла: login tuid docid jud cjud.\n",
    "\n",
    "Пояснение к формату: login — логин асессора; uid — id асессора (user id); docid — id оцениваемого документа (document id); jud — оценка асессора (judgement); cjud — правильная оценка (correct judgement); разделитель — табуляция \\t.\n",
    "\n",
    "Оценки могут принимать значение [0, 1], т.е. задание, которое сделали асессоры, имеет бинарную шкалу.\n",
    "\n",
    "Используя данные об оценках, установите, какие асессоры хуже всего справились с заданием. На какие показатели вы ориентировались и какие метрики вы использовали для ответа на этот вопрос? Можно ли предложить какие-то новые метрики для подсчета качества асессоров с учетом природы оценок у этого бинарного задания?\n",
    "\n",
    "Опишите подробно все этапы вашего решения.\n"
   ]
  },
  {
   "cell_type": "markdown",
   "metadata": {},
   "source": [
    "## Загружаем данные"
   ]
  },
  {
   "cell_type": "code",
   "execution_count": 15,
   "metadata": {},
   "outputs": [],
   "source": [
    "data_2 = pd.read_csv(PATH + 'data_task3.csv', \n",
    "                     sep='\\t')"
   ]
  },
  {
   "cell_type": "code",
   "execution_count": 16,
   "metadata": {},
   "outputs": [
    {
     "data": {
      "text/html": [
       "<div>\n",
       "<style scoped>\n",
       "    .dataframe tbody tr th:only-of-type {\n",
       "        vertical-align: middle;\n",
       "    }\n",
       "\n",
       "    .dataframe tbody tr th {\n",
       "        vertical-align: top;\n",
       "    }\n",
       "\n",
       "    .dataframe thead th {\n",
       "        text-align: right;\n",
       "    }\n",
       "</style>\n",
       "<table border=\"1\" class=\"dataframe\">\n",
       "  <thead>\n",
       "    <tr style=\"text-align: right;\">\n",
       "      <th></th>\n",
       "      <th>login</th>\n",
       "      <th>uid</th>\n",
       "      <th>docid</th>\n",
       "      <th>jud</th>\n",
       "      <th>cjud</th>\n",
       "    </tr>\n",
       "  </thead>\n",
       "  <tbody>\n",
       "    <tr>\n",
       "      <th>0</th>\n",
       "      <td>assessor158</td>\n",
       "      <td>158</td>\n",
       "      <td>0</td>\n",
       "      <td>0</td>\n",
       "      <td>0</td>\n",
       "    </tr>\n",
       "    <tr>\n",
       "      <th>1</th>\n",
       "      <td>assessor238</td>\n",
       "      <td>238</td>\n",
       "      <td>0</td>\n",
       "      <td>0</td>\n",
       "      <td>0</td>\n",
       "    </tr>\n",
       "    <tr>\n",
       "      <th>2</th>\n",
       "      <td>assessor488</td>\n",
       "      <td>488</td>\n",
       "      <td>0</td>\n",
       "      <td>0</td>\n",
       "      <td>0</td>\n",
       "    </tr>\n",
       "    <tr>\n",
       "      <th>3</th>\n",
       "      <td>assessor136</td>\n",
       "      <td>136</td>\n",
       "      <td>0</td>\n",
       "      <td>0</td>\n",
       "      <td>0</td>\n",
       "    </tr>\n",
       "    <tr>\n",
       "      <th>4</th>\n",
       "      <td>assessor300</td>\n",
       "      <td>300</td>\n",
       "      <td>0</td>\n",
       "      <td>0</td>\n",
       "      <td>0</td>\n",
       "    </tr>\n",
       "  </tbody>\n",
       "</table>\n",
       "</div>"
      ],
      "text/plain": [
       "         login  uid  docid  jud  cjud\n",
       "0  assessor158  158      0    0     0\n",
       "1  assessor238  238      0    0     0\n",
       "2  assessor488  488      0    0     0\n",
       "3  assessor136  136      0    0     0\n",
       "4  assessor300  300      0    0     0"
      ]
     },
     "execution_count": 16,
     "metadata": {},
     "output_type": "execute_result"
    }
   ],
   "source": [
    "data_2.head()"
   ]
  },
  {
   "cell_type": "markdown",
   "metadata": {},
   "source": [
    "### Смотрим общую информацию по объектам"
   ]
  },
  {
   "cell_type": "code",
   "execution_count": 17,
   "metadata": {
    "scrolled": true
   },
   "outputs": [
    {
     "name": "stdout",
     "output_type": "stream",
     "text": [
      "<class 'pandas.core.frame.DataFrame'>\n",
      "RangeIndex: 250000 entries, 0 to 249999\n",
      "Data columns (total 5 columns):\n",
      " #   Column  Non-Null Count   Dtype \n",
      "---  ------  --------------   ----- \n",
      " 0   login   250000 non-null  object\n",
      " 1   uid     250000 non-null  int64 \n",
      " 2   docid   250000 non-null  int64 \n",
      " 3   jud     250000 non-null  int64 \n",
      " 4   cjud    250000 non-null  int64 \n",
      "dtypes: int64(4), object(1)\n",
      "memory usage: 9.5+ MB\n"
     ]
    }
   ],
   "source": [
    "data_2.info()"
   ]
  },
  {
   "cell_type": "code",
   "execution_count": 18,
   "metadata": {},
   "outputs": [
    {
     "data": {
      "text/plain": [
       "login    0\n",
       "uid      0\n",
       "docid    0\n",
       "jud      0\n",
       "cjud     0\n",
       "dtype: int64"
      ]
     },
     "execution_count": 18,
     "metadata": {},
     "output_type": "execute_result"
    }
   ],
   "source": [
    "# Проверям наличие нулевых значений\n",
    "data_2.isnull().sum()"
   ]
  },
  {
   "cell_type": "code",
   "execution_count": 19,
   "metadata": {},
   "outputs": [
    {
     "data": {
      "text/html": [
       "<div>\n",
       "<style scoped>\n",
       "    .dataframe tbody tr th:only-of-type {\n",
       "        vertical-align: middle;\n",
       "    }\n",
       "\n",
       "    .dataframe tbody tr th {\n",
       "        vertical-align: top;\n",
       "    }\n",
       "\n",
       "    .dataframe thead th {\n",
       "        text-align: right;\n",
       "    }\n",
       "</style>\n",
       "<table border=\"1\" class=\"dataframe\">\n",
       "  <thead>\n",
       "    <tr style=\"text-align: right;\">\n",
       "      <th></th>\n",
       "      <th>uid</th>\n",
       "      <th>docid</th>\n",
       "      <th>jud</th>\n",
       "      <th>cjud</th>\n",
       "    </tr>\n",
       "  </thead>\n",
       "  <tbody>\n",
       "    <tr>\n",
       "      <th>count</th>\n",
       "      <td>250000.000000</td>\n",
       "      <td>250000.000000</td>\n",
       "      <td>250000.000000</td>\n",
       "      <td>250000.000000</td>\n",
       "    </tr>\n",
       "    <tr>\n",
       "      <th>mean</th>\n",
       "      <td>299.325672</td>\n",
       "      <td>24999.500000</td>\n",
       "      <td>0.238120</td>\n",
       "      <td>0.119920</td>\n",
       "    </tr>\n",
       "    <tr>\n",
       "      <th>std</th>\n",
       "      <td>173.131872</td>\n",
       "      <td>14433.785594</td>\n",
       "      <td>0.425934</td>\n",
       "      <td>0.324869</td>\n",
       "    </tr>\n",
       "    <tr>\n",
       "      <th>min</th>\n",
       "      <td>0.000000</td>\n",
       "      <td>0.000000</td>\n",
       "      <td>0.000000</td>\n",
       "      <td>0.000000</td>\n",
       "    </tr>\n",
       "    <tr>\n",
       "      <th>25%</th>\n",
       "      <td>150.000000</td>\n",
       "      <td>12499.750000</td>\n",
       "      <td>0.000000</td>\n",
       "      <td>0.000000</td>\n",
       "    </tr>\n",
       "    <tr>\n",
       "      <th>50%</th>\n",
       "      <td>299.000000</td>\n",
       "      <td>24999.500000</td>\n",
       "      <td>0.000000</td>\n",
       "      <td>0.000000</td>\n",
       "    </tr>\n",
       "    <tr>\n",
       "      <th>75%</th>\n",
       "      <td>449.000000</td>\n",
       "      <td>37499.250000</td>\n",
       "      <td>0.000000</td>\n",
       "      <td>0.000000</td>\n",
       "    </tr>\n",
       "    <tr>\n",
       "      <th>max</th>\n",
       "      <td>599.000000</td>\n",
       "      <td>49999.000000</td>\n",
       "      <td>1.000000</td>\n",
       "      <td>1.000000</td>\n",
       "    </tr>\n",
       "  </tbody>\n",
       "</table>\n",
       "</div>"
      ],
      "text/plain": [
       "                 uid          docid            jud           cjud\n",
       "count  250000.000000  250000.000000  250000.000000  250000.000000\n",
       "mean      299.325672   24999.500000       0.238120       0.119920\n",
       "std       173.131872   14433.785594       0.425934       0.324869\n",
       "min         0.000000       0.000000       0.000000       0.000000\n",
       "25%       150.000000   12499.750000       0.000000       0.000000\n",
       "50%       299.000000   24999.500000       0.000000       0.000000\n",
       "75%       449.000000   37499.250000       0.000000       0.000000\n",
       "max       599.000000   49999.000000       1.000000       1.000000"
      ]
     },
     "execution_count": 19,
     "metadata": {},
     "output_type": "execute_result"
    }
   ],
   "source": [
    "# Смотрим основные статистики датасета\n",
    "data_2.describe()"
   ]
  },
  {
   "cell_type": "markdown",
   "metadata": {},
   "source": [
    "## Анализ датасета"
   ]
  },
  {
   "cell_type": "markdown",
   "metadata": {},
   "source": [
    "Основной метрикой измерения качества работ ассессоров будет **accuracy** - доля правльных ответов. Но эта метрика в задачах не очень полезна в задачах с неравными классами.   \n",
    "В качестве дополнительной метрики используем **f1-меру** - среднее гармоническое точности и полноты, т.к она помогает найти оптимальный баланс между этими 2-мя метриками (с помощью поиска оптимального порога (threshold)).  \n",
    "В свою очередь **Precision** можно интерпретировать как долю объектов, названных классификатором положительными и при этом действительно являющимися положительными, а **recall** доля объектов положительного класса из всех объектов положительного класса. "
   ]
  },
  {
   "cell_type": "markdown",
   "metadata": {},
   "source": [
    "Для расчета метрик напишем функцию. "
   ]
  },
  {
   "cell_type": "code",
   "execution_count": 20,
   "metadata": {},
   "outputs": [],
   "source": [
    "def get_metrics(df):\n",
    "    \n",
    "    \"\"\"\n",
    "    Функция принимает на вход датасет и по нему рассчитывает\n",
    "    метрики - accuracy и f-меру \n",
    "    \"\"\"\n",
    "    \n",
    "    assessors = []\n",
    "    f1        = []\n",
    "    accuracy  = []\n",
    "    \n",
    "    for assessor in df['login'].unique():\n",
    "           \n",
    "        y_true = df['cjud'][df['login'] == assessor]\n",
    "        y_pred = df['jud'][df['login']  == assessor]\n",
    "\n",
    "        assessors.append(assessor)\n",
    "        f1.append(f1_score(y_true, y_pred))\n",
    "        accuracy.append(accuracy_score(y_true, y_pred))\n",
    "   \n",
    "    return pd.DataFrame({'assessors': assessors, \n",
    "                        'f1_score': f1, \n",
    "                        'accuracy': accuracy\n",
    "                        })    "
   ]
  },
  {
   "cell_type": "code",
   "execution_count": 21,
   "metadata": {},
   "outputs": [],
   "source": [
    "metrics_df = get_metrics(data_2)"
   ]
  },
  {
   "cell_type": "code",
   "execution_count": 22,
   "metadata": {},
   "outputs": [
    {
     "data": {
      "text/html": [
       "<div>\n",
       "<style scoped>\n",
       "    .dataframe tbody tr th:only-of-type {\n",
       "        vertical-align: middle;\n",
       "    }\n",
       "\n",
       "    .dataframe tbody tr th {\n",
       "        vertical-align: top;\n",
       "    }\n",
       "\n",
       "    .dataframe thead th {\n",
       "        text-align: right;\n",
       "    }\n",
       "</style>\n",
       "<table border=\"1\" class=\"dataframe\">\n",
       "  <thead>\n",
       "    <tr style=\"text-align: right;\">\n",
       "      <th></th>\n",
       "      <th>assessors</th>\n",
       "      <th>f1_score</th>\n",
       "      <th>accuracy</th>\n",
       "    </tr>\n",
       "  </thead>\n",
       "  <tbody>\n",
       "    <tr>\n",
       "      <th>0</th>\n",
       "      <td>assessor158</td>\n",
       "      <td>0.587156</td>\n",
       "      <td>0.882812</td>\n",
       "    </tr>\n",
       "    <tr>\n",
       "      <th>1</th>\n",
       "      <td>assessor238</td>\n",
       "      <td>0.488095</td>\n",
       "      <td>0.800000</td>\n",
       "    </tr>\n",
       "    <tr>\n",
       "      <th>2</th>\n",
       "      <td>assessor488</td>\n",
       "      <td>0.496732</td>\n",
       "      <td>0.809877</td>\n",
       "    </tr>\n",
       "    <tr>\n",
       "      <th>3</th>\n",
       "      <td>assessor136</td>\n",
       "      <td>0.502732</td>\n",
       "      <td>0.778049</td>\n",
       "    </tr>\n",
       "    <tr>\n",
       "      <th>4</th>\n",
       "      <td>assessor300</td>\n",
       "      <td>0.528302</td>\n",
       "      <td>0.821002</td>\n",
       "    </tr>\n",
       "  </tbody>\n",
       "</table>\n",
       "</div>"
      ],
      "text/plain": [
       "     assessors  f1_score  accuracy\n",
       "0  assessor158  0.587156  0.882812\n",
       "1  assessor238  0.488095  0.800000\n",
       "2  assessor488  0.496732  0.809877\n",
       "3  assessor136  0.502732  0.778049\n",
       "4  assessor300  0.528302  0.821002"
      ]
     },
     "execution_count": 22,
     "metadata": {},
     "output_type": "execute_result"
    }
   ],
   "source": [
    "metrics_df.head()"
   ]
  },
  {
   "cell_type": "markdown",
   "metadata": {},
   "source": [
    "# Посмотрим диаграмму распределения значний, чтобы визуально определить выбросы"
   ]
  },
  {
   "cell_type": "code",
   "execution_count": 24,
   "metadata": {},
   "outputs": [
    {
     "data": {
      "image/png": "[encoded data removed]",
      "text/plain": [
       "<Figure size 1296x576 with 1 Axes>"
      ]
     },
     "metadata": {
      "needs_background": "light"
     },
     "output_type": "display_data"
    }
   ],
   "source": [
    "x = [i for i in range(metrics_df['f1_score'].shape[0])]\n",
    "sns.scatterplot(data=metrics_df, x=x, y='f1_score', color=\"green\");"
   ]
  },
  {
   "cell_type": "code",
   "execution_count": 135,
   "metadata": {},
   "outputs": [
    {
     "name": "stderr",
     "output_type": "stream",
     "text": [
      "D:\\anaconda\\lib\\site-packages\\seaborn\\distributions.py:2551: FutureWarning: `distplot` is a deprecated function and will be removed in a future version. Please adapt your code to use either `displot` (a figure-level function with similar flexibility) or `histplot` (an axes-level function for histograms).\n",
      "  warnings.warn(msg, FutureWarning)\n"
     ]
    },
    {
     "data": {
      "image/png": "[encoded data removed]",
      "text/plain": [
       "<Figure size 1296x576 with 1 Axes>"
      ]
     },
     "metadata": {
      "needs_background": "light"
     },
     "output_type": "display_data"
    }
   ],
   "source": [
    "sns.distplot(metrics_df['f1_score']);"
   ]
  },
  {
   "cell_type": "code",
   "execution_count": 136,
   "metadata": {},
   "outputs": [
    {
     "data": {
      "image/png": "[encoded data removed]",
      "text/plain": [
       "<Figure size 1296x576 with 1 Axes>"
      ]
     },
     "metadata": {
      "needs_background": "light"
     },
     "output_type": "display_data"
    }
   ],
   "source": [
    "x = [i for i in range(metrics_df['accuracy'].shape[0])]\n",
    "sns.scatterplot(data=metrics_df, x=x, y='accuracy', color=\"green\");"
   ]
  },
  {
   "cell_type": "code",
   "execution_count": 137,
   "metadata": {},
   "outputs": [
    {
     "name": "stderr",
     "output_type": "stream",
     "text": [
      "D:\\anaconda\\lib\\site-packages\\seaborn\\distributions.py:2551: FutureWarning: `distplot` is a deprecated function and will be removed in a future version. Please adapt your code to use either `displot` (a figure-level function with similar flexibility) or `histplot` (an axes-level function for histograms).\n",
      "  warnings.warn(msg, FutureWarning)\n"
     ]
    },
    {
     "data": {
      "image/png": "[encoded data removed]",
      "text/plain": [
       "<Figure size 1296x576 with 1 Axes>"
      ]
     },
     "metadata": {
      "needs_background": "light"
     },
     "output_type": "display_data"
    }
   ],
   "source": [
    "sns.distplot(metrics_df['accuracy']);"
   ]
  },
  {
   "cell_type": "markdown",
   "metadata": {},
   "source": [
    "Предположим, что хуже всего справляются ассессоры имеющие метрику f1_score<0.5 и  метрику accuracy<0.8"
   ]
  },
  {
   "cell_type": "code",
   "execution_count": 138,
   "metadata": {},
   "outputs": [],
   "source": [
    "bad_assessors = metrics_df.query('f1_score < 0.5 or accuracy < 0.8')"
   ]
  },
  {
   "cell_type": "code",
   "execution_count": 139,
   "metadata": {},
   "outputs": [
    {
     "data": {
      "text/html": [
       "<div>\n",
       "<style scoped>\n",
       "    .dataframe tbody tr th:only-of-type {\n",
       "        vertical-align: middle;\n",
       "    }\n",
       "\n",
       "    .dataframe tbody tr th {\n",
       "        vertical-align: top;\n",
       "    }\n",
       "\n",
       "    .dataframe thead th {\n",
       "        text-align: right;\n",
       "    }\n",
       "</style>\n",
       "<table border=\"1\" class=\"dataframe\">\n",
       "  <thead>\n",
       "    <tr style=\"text-align: right;\">\n",
       "      <th></th>\n",
       "      <th>assessors</th>\n",
       "      <th>f1_score</th>\n",
       "      <th>accuracy</th>\n",
       "    </tr>\n",
       "  </thead>\n",
       "  <tbody>\n",
       "    <tr>\n",
       "      <th>1</th>\n",
       "      <td>assessor238</td>\n",
       "      <td>0.488095</td>\n",
       "      <td>0.800000</td>\n",
       "    </tr>\n",
       "    <tr>\n",
       "      <th>2</th>\n",
       "      <td>assessor488</td>\n",
       "      <td>0.496732</td>\n",
       "      <td>0.809877</td>\n",
       "    </tr>\n",
       "    <tr>\n",
       "      <th>3</th>\n",
       "      <td>assessor136</td>\n",
       "      <td>0.502732</td>\n",
       "      <td>0.778049</td>\n",
       "    </tr>\n",
       "    <tr>\n",
       "      <th>9</th>\n",
       "      <td>assessor295</td>\n",
       "      <td>0.451613</td>\n",
       "      <td>0.782609</td>\n",
       "    </tr>\n",
       "    <tr>\n",
       "      <th>12</th>\n",
       "      <td>assessor399</td>\n",
       "      <td>0.497041</td>\n",
       "      <td>0.804147</td>\n",
       "    </tr>\n",
       "    <tr>\n",
       "      <th>...</th>\n",
       "      <td>...</td>\n",
       "      <td>...</td>\n",
       "      <td>...</td>\n",
       "    </tr>\n",
       "    <tr>\n",
       "      <th>580</th>\n",
       "      <td>assessor96</td>\n",
       "      <td>0.469880</td>\n",
       "      <td>0.804878</td>\n",
       "    </tr>\n",
       "    <tr>\n",
       "      <th>585</th>\n",
       "      <td>assessor119</td>\n",
       "      <td>0.537634</td>\n",
       "      <td>0.799534</td>\n",
       "    </tr>\n",
       "    <tr>\n",
       "      <th>595</th>\n",
       "      <td>assessor403</td>\n",
       "      <td>0.487179</td>\n",
       "      <td>0.810427</td>\n",
       "    </tr>\n",
       "    <tr>\n",
       "      <th>598</th>\n",
       "      <td>assessor234</td>\n",
       "      <td>0.238806</td>\n",
       "      <td>0.484848</td>\n",
       "    </tr>\n",
       "    <tr>\n",
       "      <th>599</th>\n",
       "      <td>assessor93</td>\n",
       "      <td>0.486111</td>\n",
       "      <td>0.813131</td>\n",
       "    </tr>\n",
       "  </tbody>\n",
       "</table>\n",
       "<p>160 rows × 3 columns</p>\n",
       "</div>"
      ],
      "text/plain": [
       "       assessors  f1_score  accuracy\n",
       "1    assessor238  0.488095  0.800000\n",
       "2    assessor488  0.496732  0.809877\n",
       "3    assessor136  0.502732  0.778049\n",
       "9    assessor295  0.451613  0.782609\n",
       "12   assessor399  0.497041  0.804147\n",
       "..           ...       ...       ...\n",
       "580   assessor96  0.469880  0.804878\n",
       "585  assessor119  0.537634  0.799534\n",
       "595  assessor403  0.487179  0.810427\n",
       "598  assessor234  0.238806  0.484848\n",
       "599   assessor93  0.486111  0.813131\n",
       "\n",
       "[160 rows x 3 columns]"
      ]
     },
     "execution_count": 139,
     "metadata": {},
     "output_type": "execute_result"
    }
   ],
   "source": [
    "# Ассессоры хуже всего справившиеся с заданием\n",
    "bad_assessors"
   ]
  },
  {
   "cell_type": "code",
   "execution_count": 155,
   "metadata": {},
   "outputs": [
    {
     "name": "stdout",
     "output_type": "stream",
     "text": [
      "Количество ассессоров зуже всего справившихся с заданием - 160\n"
     ]
    }
   ],
   "source": [
    "print(f'Количество ассессоров хуже всего справившихся с заданием - {bad_assessors.shape[0]}')"
   ]
  }
 ],
 "metadata": {
  "kernelspec": {
   "display_name": "Python 3",
   "language": "python",
   "name": "python3"
  },
  "language_info": {
   "codemirror_mode": {
    "name": "ipython",
    "version": 3
   },
   "file_extension": ".py",
   "mimetype": "text/x-python",
   "name": "python",
   "nbconvert_exporter": "python",
   "pygments_lexer": "ipython3",
   "version": "3.8.5"
  },
  "toc": {
   "base_numbering": 1,
   "nav_menu": {},
   "number_sections": true,
   "sideBar": true,
   "skip_h1_title": false,
   "title_cell": "Table of Contents",
   "title_sidebar": "Contents",
   "toc_cell": false,
   "toc_position": {},
   "toc_section_display": true,
   "toc_window_display": false
  }
 },
 "nbformat": 4,
 "nbformat_minor": 4
}
